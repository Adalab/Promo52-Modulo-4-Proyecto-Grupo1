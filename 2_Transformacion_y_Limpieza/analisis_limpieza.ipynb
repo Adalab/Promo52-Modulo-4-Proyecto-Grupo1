{
 "cells": [
  {
   "cell_type": "markdown",
   "id": "2c31476e",
   "metadata": {},
   "source": [
    "### FASE 1: \n",
    "\n",
    "Exploración y limpieza de datos. \n",
    "\n",
    "Traducimos el CSV para facilitar la manipulación y comprensión de los datos. \n",
    "Hacemos análisis exploratorio EDA y comprobamos: \n",
    "- No hay nulos\n",
    "- No hay duplicados\n",
    "- Los valores únicos están correctos\n",
    "- En el caso del tiempo de resolución comprobamos máximo y mínimo y decidimos mantenerlo en horas\n",
    "- Verificamos que los tipos de datos son correctos\n",
    "- Consideramos que los datos están bien estructurados. \n",
    "\n",
    "No realizamos más modificaciones. \n",
    "\n",
    "CSV final: \"Ciberseguridad_Global.csv\""
   ]
  },
  {
   "cell_type": "code",
   "execution_count": null,
   "id": "e783bee6",
   "metadata": {},
   "outputs": [],
   "source": [
    "# Importamos las librerías\n",
    "\n",
    "import pandas as pd \n",
    "import numpy as np "
   ]
  },
  {
   "cell_type": "code",
   "execution_count": null,
   "id": "0d4c4829",
   "metadata": {},
   "outputs": [],
   "source": [
    "# Abrimos csv\n",
    "\n",
    "df = pd.read_csv(\"Global_Cybersecurity_Threats_2015-2024.csv\")"
   ]
  },
  {
   "cell_type": "code",
   "execution_count": null,
   "id": "42aad1bb",
   "metadata": {},
   "outputs": [],
   "source": [
    "# Creamos diccionario para traducir el contenido\n",
    "\n",
    "traducciones = {\n",
    "    'UK': 'Reino Unido',\n",
    "    'Germany': 'Alemania',\n",
    "    'France': 'Francia',\n",
    "    'Russia': 'Rusia',\n",
    "    'Brazil': 'Brasil',\n",
    "    'Japan': 'Japón',\n",
    "    'USA': 'Estados Unidos',\n",
    "    'Education': 'Educación',\n",
    "    'Retail': 'Minorista',\n",
    "    'Telecommunications': 'Telecomunicaciones',\n",
    "    'Government': 'Gobierno',\n",
    "    'Banking': 'Bancario',\n",
    "    'Healthcare': 'Cuidado de la salud',\n",
    "    'Hacker Group': 'Grupo de hackers',\n",
    "    'Nation-state': 'Estado-nación',\n",
    "    'Insider': 'Empleado interno',\n",
    "    'Unknown': 'Desconocido',\n",
    "    'Unpatched Software': 'Software sin actualizar',\n",
    "    'Weak Passwords': 'Contraseñas débiles',\n",
    "    'Social Engineering': 'Ingeniería social',\n",
    "    'Zero-day': 'Zero-day',\n",
    "    'Firewall': 'Cortafuegos',\n",
    "    'AI-based Detection': 'Detección basada en IA',\n",
    "    'Encryption': 'Encriptación'\n",
    "}"
   ]
  },
  {
   "cell_type": "code",
   "execution_count": null,
   "id": "0c5c1308",
   "metadata": {},
   "outputs": [],
   "source": [
    "# Ejecutamos la traducción\n",
    "\n",
    "df.replace(traducciones, inplace=True)"
   ]
  },
  {
   "cell_type": "code",
   "execution_count": null,
   "id": "9016ce71",
   "metadata": {},
   "outputs": [],
   "source": [
    "# Renombramos las columnas\n",
    "\n",
    "df.rename(columns={\n",
    "    'Country': 'País',\n",
    "    'Year': 'Año',\n",
    "    'Attack Type': 'Tipo de Ataque',\n",
    "    'Target Industry': 'Industria Objetivo',\n",
    "    'Financial Loss (in Million $)': 'Pérdidas Económicas (en millones de $)',\n",
    "    'Number of Affected Users': 'Número de Usuarios Afectados',\n",
    "    'Attack Source': 'Fuente del Ataque',\n",
    "    'Security Vulnerability Type': 'Tipo de Vulnerabilidad de Seguridad',\n",
    "    'Defense Mechanism Used': 'Mecanismo de Defensa Utilizado',\n",
    "    'Incident Resolution Time (in Hours)': 'Tiempo de Resolución del Incidente (en horas)'\n",
    "}, inplace=True)"
   ]
  },
  {
   "cell_type": "code",
   "execution_count": null,
   "id": "b315a570",
   "metadata": {},
   "outputs": [],
   "source": [
    "# Guardamos como csv como copia corregida\n",
    "\n",
    "df.to_csv(\"Ciberseguridad_Global.csv\", index=False)"
   ]
  },
  {
   "cell_type": "code",
   "execution_count": null,
   "id": "3df01314",
   "metadata": {},
   "outputs": [],
   "source": [
    "# Abrimos el formato csv que tiene los puntos correctos para ejecutar el eda\n",
    "\n",
    "df = pd.read_csv(\"Ciberseguridad_Global.csv\")"
   ]
  },
  {
   "cell_type": "code",
   "execution_count": null,
   "id": "84a860ca",
   "metadata": {},
   "outputs": [],
   "source": [
    "# Función de EDA\n",
    "\n",
    "def eda_basico(df):\n",
    "\n",
    "    print('🌷Ejemplo de datos del DF:')\n",
    "    display(df.head(2))\n",
    "    display(df.tail(2))\n",
    "    display(df.sample(4))\n",
    "    print('________________________________________________________________________________________________________\\n')\n",
    "\n",
    "    print('🌻Número de Filas:')\n",
    "    display(df.shape[0])\n",
    "    print('________________________________________________________________________________________________________\\n')\n",
    "\n",
    "    print('🌱Número de Columnas:')\n",
    "    display(df.shape[1])\n",
    "    print('________________________________________________________________________________________________________\\n')\n",
    "\n",
    "    print('🧬 Tipos de datos y número de columnas de cada tipo:')\n",
    "    display(df.dtypes.value_counts())\n",
    "    print('________________________________________________________________________________________________________\\n')\n",
    "\n",
    "    print('🌑Nombre de las columnas:')\n",
    "    display(df.columns)\n",
    "    print('________________________________________________________________________________________________________\\n')\n",
    "\n",
    "    print('🌼Información de la tabla:')\n",
    "    display(df.info())\n",
    "    print('________________________________________________________________________________________________________\\n')\n",
    "\n",
    "    print('🐲Filas duplicadas:')\n",
    "    total_duplicados = df.duplicated().sum()\n",
    "    if total_duplicados > 0:\n",
    "        print(f'cantidad de duplicados: {total_duplicados}')\n",
    "        print('Primeros duplicados')\n",
    "        display(df[df.duplicated()].head(3))\n",
    "    else:\n",
    "        print('No hay duplicados')\n",
    "    print('________________________________________________________________________________________________________\\n')\n",
    "\n",
    "    print('🐖Que porcentaje de nulos tenemos por columnas:')\n",
    "    porc_nulos = (df.isnull().sum() / df.shape[0]) * 100\n",
    "    df_nulos = pd.DataFrame(porc_nulos, columns = [\"%_nulos\"])\n",
    "    display(df_nulos[df_nulos[\"%_nulos\"] > 0])\n",
    "    print('________________________________________________________________________________________________________\\n')\n",
    "\n",
    "    print(\"Las columnas categóricas que tienen nulos son :\")\n",
    "    nulos_cat = df[df.columns[df.isnull().any()]].select_dtypes(include = \"O\").columns\n",
    "    display(nulos_cat)\n",
    "    print('________________________________________________________________________________________________________\\n')\n",
    "\n",
    "    print('🌋Estadísticas de los datos categóricos:')\n",
    "    display(df.describe(include='object').T)\n",
    "    print('________________________________________________________________________________________________________\\n')\n",
    "\n",
    "    print(\"Las columnas numéricas que tienen nulos son : \")\n",
    "    nulos_num = df[df.columns[df.isnull().any()]].select_dtypes(include = np.number).columns\n",
    "    display(nulos_num)\n",
    "    print('________________________________________________________________________________________________________\\n')\n",
    "\n",
    "    print('🍄Estadísticas de los datos numéricos:')\n",
    "    display(df.describe().T)\n",
    "    print('________________________________________________________________________________________________________\\n')"
   ]
  },
  {
   "cell_type": "code",
   "execution_count": null,
   "id": "dabec808",
   "metadata": {},
   "outputs": [],
   "source": [
    "# Ejecutamos la función de EDA\n",
    "\n",
    "eda_basico(df)"
   ]
  },
  {
   "cell_type": "code",
   "execution_count": null,
   "id": "a13c864d",
   "metadata": {},
   "outputs": [],
   "source": [
    "# Modificamos puntos por comas para una correcta detección en Tableau\n",
    "\n",
    "df['Pérdidas Económicas (en millones de $)'] = df['Pérdidas Económicas (en millones de $)'].astype(str).str.replace(\".\", \",\", regex=False)"
   ]
  },
  {
   "cell_type": "code",
   "execution_count": null,
   "id": "e65fd96c",
   "metadata": {},
   "outputs": [],
   "source": [
    "# Guardamos como excel para su uso en Tableau\n",
    "\n",
    "df.to_excel(\"Ciberseguridad_Global_toexcel.xlsx\", index=False)"
   ]
  },
  {
   "cell_type": "code",
   "execution_count": 11,
   "id": "d1459cdd",
   "metadata": {},
   "outputs": [
    {
     "data": {
      "application/vnd.microsoft.datawrangler.viewer.v0+json": {
       "columns": [
        {
         "name": "index",
         "rawType": "int64",
         "type": "integer"
        },
        {
         "name": "País",
         "rawType": "object",
         "type": "string"
        },
        {
         "name": "Año",
         "rawType": "int64",
         "type": "integer"
        },
        {
         "name": "Tipo de Ataque",
         "rawType": "object",
         "type": "string"
        },
        {
         "name": "Industria Objetivo",
         "rawType": "object",
         "type": "string"
        },
        {
         "name": "Pérdidas Económicas (en millones de $)",
         "rawType": "object",
         "type": "string"
        },
        {
         "name": "Número de Usuarios Afectados",
         "rawType": "int64",
         "type": "integer"
        },
        {
         "name": "Fuente del Ataque",
         "rawType": "object",
         "type": "string"
        },
        {
         "name": "Tipo de Vulnerabilidad de Seguridad",
         "rawType": "object",
         "type": "string"
        },
        {
         "name": "Mecanismo de Defensa Utilizado",
         "rawType": "object",
         "type": "string"
        },
        {
         "name": "Tiempo de Resolución del Incidente (en horas)",
         "rawType": "int64",
         "type": "integer"
        }
       ],
       "ref": "fb2260b2-1fd7-452a-a200-552ee51a672e",
       "rows": [
        [
         "0",
         "China",
         "2019",
         "Phishing",
         "Educación",
         "80,53",
         "773169",
         "Grupo de hackers",
         "Software sin actualizar",
         "VPN",
         "63"
        ],
        [
         "1",
         "China",
         "2019",
         "Ransomware",
         "Minorista",
         "62,19",
         "295961",
         "Grupo de hackers",
         "Software sin actualizar",
         "Cortafuegos",
         "71"
        ],
        [
         "2",
         "India",
         "2017",
         "Man-in-the-Middle",
         "IT",
         "38,65",
         "605895",
         "Grupo de hackers",
         "Contraseñas débiles",
         "VPN",
         "20"
        ],
        [
         "3",
         "Reino Unido",
         "2024",
         "Ransomware",
         "Telecomunicaciones",
         "41,44",
         "659320",
         "Estado-nación",
         "Ingeniería social",
         "Detección basada en IA",
         "7"
        ],
        [
         "4",
         "Alemania",
         "2018",
         "Man-in-the-Middle",
         "IT",
         "74,41",
         "810682",
         "Empleado interno",
         "Ingeniería social",
         "VPN",
         "68"
        ]
       ],
       "shape": {
        "columns": 10,
        "rows": 5
       }
      },
      "text/html": [
       "<div>\n",
       "<style scoped>\n",
       "    .dataframe tbody tr th:only-of-type {\n",
       "        vertical-align: middle;\n",
       "    }\n",
       "\n",
       "    .dataframe tbody tr th {\n",
       "        vertical-align: top;\n",
       "    }\n",
       "\n",
       "    .dataframe thead th {\n",
       "        text-align: right;\n",
       "    }\n",
       "</style>\n",
       "<table border=\"1\" class=\"dataframe\">\n",
       "  <thead>\n",
       "    <tr style=\"text-align: right;\">\n",
       "      <th></th>\n",
       "      <th>País</th>\n",
       "      <th>Año</th>\n",
       "      <th>Tipo de Ataque</th>\n",
       "      <th>Industria Objetivo</th>\n",
       "      <th>Pérdidas Económicas (en millones de $)</th>\n",
       "      <th>Número de Usuarios Afectados</th>\n",
       "      <th>Fuente del Ataque</th>\n",
       "      <th>Tipo de Vulnerabilidad de Seguridad</th>\n",
       "      <th>Mecanismo de Defensa Utilizado</th>\n",
       "      <th>Tiempo de Resolución del Incidente (en horas)</th>\n",
       "    </tr>\n",
       "  </thead>\n",
       "  <tbody>\n",
       "    <tr>\n",
       "      <th>0</th>\n",
       "      <td>China</td>\n",
       "      <td>2019</td>\n",
       "      <td>Phishing</td>\n",
       "      <td>Educación</td>\n",
       "      <td>80,53</td>\n",
       "      <td>773169</td>\n",
       "      <td>Grupo de hackers</td>\n",
       "      <td>Software sin actualizar</td>\n",
       "      <td>VPN</td>\n",
       "      <td>63</td>\n",
       "    </tr>\n",
       "    <tr>\n",
       "      <th>1</th>\n",
       "      <td>China</td>\n",
       "      <td>2019</td>\n",
       "      <td>Ransomware</td>\n",
       "      <td>Minorista</td>\n",
       "      <td>62,19</td>\n",
       "      <td>295961</td>\n",
       "      <td>Grupo de hackers</td>\n",
       "      <td>Software sin actualizar</td>\n",
       "      <td>Cortafuegos</td>\n",
       "      <td>71</td>\n",
       "    </tr>\n",
       "    <tr>\n",
       "      <th>2</th>\n",
       "      <td>India</td>\n",
       "      <td>2017</td>\n",
       "      <td>Man-in-the-Middle</td>\n",
       "      <td>IT</td>\n",
       "      <td>38,65</td>\n",
       "      <td>605895</td>\n",
       "      <td>Grupo de hackers</td>\n",
       "      <td>Contraseñas débiles</td>\n",
       "      <td>VPN</td>\n",
       "      <td>20</td>\n",
       "    </tr>\n",
       "    <tr>\n",
       "      <th>3</th>\n",
       "      <td>Reino Unido</td>\n",
       "      <td>2024</td>\n",
       "      <td>Ransomware</td>\n",
       "      <td>Telecomunicaciones</td>\n",
       "      <td>41,44</td>\n",
       "      <td>659320</td>\n",
       "      <td>Estado-nación</td>\n",
       "      <td>Ingeniería social</td>\n",
       "      <td>Detección basada en IA</td>\n",
       "      <td>7</td>\n",
       "    </tr>\n",
       "    <tr>\n",
       "      <th>4</th>\n",
       "      <td>Alemania</td>\n",
       "      <td>2018</td>\n",
       "      <td>Man-in-the-Middle</td>\n",
       "      <td>IT</td>\n",
       "      <td>74,41</td>\n",
       "      <td>810682</td>\n",
       "      <td>Empleado interno</td>\n",
       "      <td>Ingeniería social</td>\n",
       "      <td>VPN</td>\n",
       "      <td>68</td>\n",
       "    </tr>\n",
       "  </tbody>\n",
       "</table>\n",
       "</div>"
      ],
      "text/plain": [
       "          País   Año     Tipo de Ataque  Industria Objetivo  \\\n",
       "0        China  2019           Phishing           Educación   \n",
       "1        China  2019         Ransomware           Minorista   \n",
       "2        India  2017  Man-in-the-Middle                  IT   \n",
       "3  Reino Unido  2024         Ransomware  Telecomunicaciones   \n",
       "4     Alemania  2018  Man-in-the-Middle                  IT   \n",
       "\n",
       "  Pérdidas Económicas (en millones de $)  Número de Usuarios Afectados  \\\n",
       "0                                  80,53                        773169   \n",
       "1                                  62,19                        295961   \n",
       "2                                  38,65                        605895   \n",
       "3                                  41,44                        659320   \n",
       "4                                  74,41                        810682   \n",
       "\n",
       "  Fuente del Ataque Tipo de Vulnerabilidad de Seguridad  \\\n",
       "0  Grupo de hackers             Software sin actualizar   \n",
       "1  Grupo de hackers             Software sin actualizar   \n",
       "2  Grupo de hackers                 Contraseñas débiles   \n",
       "3     Estado-nación                   Ingeniería social   \n",
       "4  Empleado interno                   Ingeniería social   \n",
       "\n",
       "  Mecanismo de Defensa Utilizado  \\\n",
       "0                            VPN   \n",
       "1                    Cortafuegos   \n",
       "2                            VPN   \n",
       "3         Detección basada en IA   \n",
       "4                            VPN   \n",
       "\n",
       "   Tiempo de Resolución del Incidente (en horas)  \n",
       "0                                             63  \n",
       "1                                             71  \n",
       "2                                             20  \n",
       "3                                              7  \n",
       "4                                             68  "
      ]
     },
     "execution_count": 11,
     "metadata": {},
     "output_type": "execute_result"
    }
   ],
   "source": [
    "df.head()"
   ]
  }
 ],
 "metadata": {
  "kernelspec": {
   "display_name": "base",
   "language": "python",
   "name": "python3"
  },
  "language_info": {
   "codemirror_mode": {
    "name": "ipython",
    "version": 3
   },
   "file_extension": ".py",
   "mimetype": "text/x-python",
   "name": "python",
   "nbconvert_exporter": "python",
   "pygments_lexer": "ipython3",
   "version": "3.12.7"
  }
 },
 "nbformat": 4,
 "nbformat_minor": 5
}
