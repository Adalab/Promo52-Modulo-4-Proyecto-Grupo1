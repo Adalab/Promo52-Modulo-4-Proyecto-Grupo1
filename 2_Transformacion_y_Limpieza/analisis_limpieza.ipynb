{
 "cells": [
  {
   "cell_type": "markdown",
   "id": "2c31476e",
   "metadata": {},
   "source": [
    "### FASE 1: \n",
    "\n",
    "Exploración y limpieza de datos. \n",
    "\n",
    "Traducimos el CSV para facilitar la manipulación y comprensión de los datos. \n",
    "Hacemos análisis exploratorio EDA y comprobamos: \n",
    "- No hay nulos\n",
    "- No hay duplicados\n",
    "- Los valores únicos están correctos\n",
    "- En el caso del tiempo de resolución comprobamos máximo y mínimo y decidimos mantenerlo en horas\n",
    "- Verificamos que los tipos de datos son correctos\n",
    "- Consideramos que los datos están bien estructurados. \n",
    "\n",
    "No realizamos más modificaciones. \n",
    "\n",
    "CSV final: \"Ciberseguridad_Global.csv\""
   ]
  },
  {
   "cell_type": "code",
   "execution_count": 30,
   "id": "e783bee6",
   "metadata": {},
   "outputs": [],
   "source": [
    "import pandas as pd \n",
    "import numpy as np "
   ]
  },
  {
   "cell_type": "code",
   "execution_count": 15,
   "id": "0d4c4829",
   "metadata": {},
   "outputs": [],
   "source": [
    "df = pd.read_csv(\"Global_Cybersecurity_Threats_2015-2024.csv\")"
   ]
  },
  {
   "cell_type": "code",
   "execution_count": 24,
   "id": "42aad1bb",
   "metadata": {},
   "outputs": [],
   "source": [
    "traducciones = {\n",
    "    'UK': 'Reino Unido',\n",
    "    'Germany': 'Alemania',\n",
    "    'France': 'Francia',\n",
    "    'Russia': 'Rusia',\n",
    "    'Brazil': 'Brasil',\n",
    "    'Japan': 'Japón',\n",
    "    'USA': 'EE.UU',\n",
    "    'Education': 'Educación',\n",
    "    'Retail': 'Minorista',\n",
    "    'Telecommunications': 'Telecomunicaciones',\n",
    "    'Government': 'Gobierno',\n",
    "    'Banking': 'Bancario',\n",
    "    'Healthcare': 'Cuidado de la salud',\n",
    "    'Hacker Group': 'Grupo de hackers',\n",
    "    'Nation-state': 'Estado-nación',\n",
    "    'Insider': 'Empleado interno',\n",
    "    'Unknown': 'Desconocido',\n",
    "    'Unpatched Software': 'Software sin actualizar',\n",
    "    'Weak Passwords': 'Contraseñas débiles',\n",
    "    'Social Engineering': 'Ingeniería social',\n",
    "    'Zero-day': 'Zero-day',\n",
    "    'Firewall': 'Cortafuegos',\n",
    "    'AI-based Detection': 'Detección basada en IA',\n",
    "    'Encryption': 'Encriptación'\n",
    "}"
   ]
  },
  {
   "cell_type": "code",
   "execution_count": 25,
   "id": "0c5c1308",
   "metadata": {},
   "outputs": [],
   "source": [
    "df.replace(traducciones, inplace=True)"
   ]
  },
  {
   "cell_type": "code",
   "execution_count": 26,
   "id": "9016ce71",
   "metadata": {},
   "outputs": [],
   "source": [
    "df.rename(columns={\n",
    "    'Country': 'País',\n",
    "    'Year': 'Año',\n",
    "    'Attack Type': 'Tipo de Ataque',\n",
    "    'Target Industry': 'Industria Objetivo',\n",
    "    'Financial Loss (in Million $)': 'Pérdidas Económicas (en millones de $)',\n",
    "    'Number of Affected Users': 'Número de Usuarios Afectados',\n",
    "    'Attack Source': 'Fuente del Ataque',\n",
    "    'Security Vulnerability Type': 'Tipo de Vulnerabilidad de Seguridad',\n",
    "    'Defense Mechanism Used': 'Mecanismo de Defensa Utilizado',\n",
    "    'Incident Resolution Time (in Hours)': 'Tiempo de Resolución del Incidente (en horas)'\n",
    "}, inplace=True)"
   ]
  },
  {
   "cell_type": "code",
   "execution_count": 28,
   "id": "b315a570",
   "metadata": {},
   "outputs": [],
   "source": [
    "df.to_csv(\"Ciberseguridad_Global.csv\")"
   ]
  },
  {
   "cell_type": "code",
   "execution_count": 31,
   "id": "3df01314",
   "metadata": {},
   "outputs": [],
   "source": [
    "df = pd.read_csv(\"Ciberseguridad_Global.csv\")"
   ]
  },
  {
   "cell_type": "code",
   "execution_count": null,
   "id": "84a860ca",
   "metadata": {},
   "outputs": [],
   "source": [
    "def eda_basico(df):\n",
    "\n",
    "    print('🌷Ejemplo de datos del DF:')\n",
    "    display(df.head(3))\n",
    "    display(df.tail(3))\n",
    "    display(df.sample(3))\n",
    "    print('________________________________________________________________________________________________________')\n",
    "\n",
    "    print('🌻Número de Filas:')\n",
    "    display(df.shape[0])\n",
    "    print('________________________________________________________________________________________________________')\n",
    "\n",
    "    print('🌱Número de Columnas:')\n",
    "    display(df.shape[1])\n",
    "    print('________________________________________________________________________________________________________')\n",
    "\n",
    "    print('🌼Información de la tabla:')\n",
    "    display(df.info())\n",
    "    print('________________________________________________________________________________________________________')\n",
    "\n",
    "    print('🌑Nombre de las columnas:')\n",
    "    display(df.columns)\n",
    "    print('________________________________________________________________________________________________________')\n",
    "\n",
    "    print('🍄Descripción de los datos numéricos:')\n",
    "    display(df.describe().T)\n",
    "    print('________________________________________________________________________________________________________')\n",
    "\n",
    "    print('🌋Descripción de los datos no-numéricos:')\n",
    "    display(df.describe(include='object').T)\n",
    "    print('________________________________________________________________________________________________________')\n",
    "\n",
    "    print('🍂Saber si hay datos únicos:')\n",
    "    display(df.nunique())\n",
    "    print('________________________________________________________________________________________________________')\n",
    "\n",
    "    print('🐖Que datos son nulos por columnas:')\n",
    "    display(df.isnull().sum())\n",
    "    print('________________________________________________________________________________________________________')\n",
    "\n",
    "    print('🐲Filas duplicadas:')\n",
    "    total_duplicados = df.duplicated().sum()\n",
    "    if total_duplicados > 0:\n",
    "        print(f'cantidad de duplicados: {total_duplicados}')\n",
    "        print('Primeros duplicados')\n",
    "        display(df[df.duplicated()].head(3))\n",
    "    else:\n",
    "        print('No hay duplicados')\n",
    "    print('________________________________________________________________________________________________________')\n",
    "\n",
    "    print('🪹 Columnas constantes (solo 1 valor único):')\n",
    "    constantes = df.columns[df.nunique() <= 1]\n",
    "    if len(constantes) > 0:\n",
    "        print(f'{len(constantes)} columnas con 1 valor único:')\n",
    "        display(constantes)\n",
    "    else:\n",
    "        print('No hay columnas constantes')\n",
    "    print('________________________________________________________________________________________________________')\n",
    "    \n",
    "    print('🚀 Valores únicos en columnas categóricas:')\n",
    "    for col in df.select_dtypes(include='object'):\n",
    "        print(f'🔸 {col}')\n",
    "        print('-----------------------------')\n",
    "        print(df[col].unique())\n",
    "        print('________________________________________________________________________________________________________')\n",
    "\n",
    "    print('🧬 Tipos de datos por columna:')\n",
    "    display(df.dtypes.value_counts())\n",
    "    print('________________________________________________________________________________________________________')"
   ]
  },
  {
   "cell_type": "code",
   "execution_count": null,
   "id": "dabec808",
   "metadata": {},
   "outputs": [],
   "source": [
    "eda_basico(df)"
   ]
  }
 ],
 "metadata": {
  "kernelspec": {
   "display_name": "base",
   "language": "python",
   "name": "python3"
  },
  "language_info": {
   "codemirror_mode": {
    "name": "ipython",
    "version": 3
   },
   "file_extension": ".py",
   "mimetype": "text/x-python",
   "name": "python",
   "nbconvert_exporter": "python",
   "pygments_lexer": "ipython3",
   "version": "3.12.7"
  }
 },
 "nbformat": 4,
 "nbformat_minor": 5
}
