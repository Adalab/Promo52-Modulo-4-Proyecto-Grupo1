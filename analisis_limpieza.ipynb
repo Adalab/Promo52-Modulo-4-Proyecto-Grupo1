{
 "cells": [
  {
   "cell_type": "code",
   "execution_count": 30,
   "id": "e783bee6",
   "metadata": {},
   "outputs": [],
   "source": [
    "import pandas as pd \n",
    "import numpy as np "
   ]
  },
  {
   "cell_type": "code",
   "execution_count": 15,
   "id": "0d4c4829",
   "metadata": {},
   "outputs": [],
   "source": [
    "df = pd.read_csv(\"Global_Cybersecurity_Threats_2015-2024.csv\")"
   ]
  },
  {
   "cell_type": "code",
   "execution_count": 24,
   "id": "42aad1bb",
   "metadata": {},
   "outputs": [],
   "source": [
    "traducciones = {\n",
    "    'UK': 'Reino Unido',\n",
    "    'Germany': 'Alemania',\n",
    "    'France': 'Francia',\n",
    "    'Russia': 'Rusia',\n",
    "    'Brazil': 'Brasil',\n",
    "    'Japan': 'Japón',\n",
    "    'USA': 'EE.UU',\n",
    "    'Education': 'Educación',\n",
    "    'Retail': 'Minorista',\n",
    "    'Telecommunications': 'Telecomunicaciones',\n",
    "    'Government': 'Gobierno',\n",
    "    'Banking': 'Bancario',\n",
    "    'Healthcare': 'Cuidado de la salud',\n",
    "    'Hacker Group': 'Grupo de hackers',\n",
    "    'Nation-state': 'Estado-nación',\n",
    "    'Insider': 'Empleado interno',\n",
    "    'Unknown': 'Desconocido',\n",
    "    'Unpatched Software': 'Software sin actualizar',\n",
    "    'Weak Passwords': 'Contraseñas débiles',\n",
    "    'Social Engineering': 'Ingeniería social',\n",
    "    'Zero-day': 'Zero-day',\n",
    "    'Firewall': 'Cortafuegos',\n",
    "    'AI-based Detection': 'Detección basada en IA',\n",
    "    'Encryption': 'Encriptación'\n",
    "}"
   ]
  },
  {
   "cell_type": "code",
   "execution_count": 25,
   "id": "0c5c1308",
   "metadata": {},
   "outputs": [],
   "source": [
    "df.replace(traducciones, inplace=True)"
   ]
  },
  {
   "cell_type": "code",
   "execution_count": 26,
   "id": "9016ce71",
   "metadata": {},
   "outputs": [],
   "source": [
    "df.rename(columns={\n",
    "    'Country': 'País',\n",
    "    'Year': 'Año',\n",
    "    'Attack Type': 'Tipo de Ataque',\n",
    "    'Target Industry': 'Industria Objetivo',\n",
    "    'Financial Loss (in Million $)': 'Pérdidas Económicas (en millones de $)',\n",
    "    'Number of Affected Users': 'Número de Usuarios Afectados',\n",
    "    'Attack Source': 'Fuente del Ataque',\n",
    "    'Security Vulnerability Type': 'Tipo de Vulnerabilidad de Seguridad',\n",
    "    'Defense Mechanism Used': 'Mecanismo de Defensa Utilizado',\n",
    "    'Incident Resolution Time (in Hours)': 'Tiempo de Resolución del Incidente (en horas)'\n",
    "}, inplace=True)"
   ]
  },
  {
   "cell_type": "code",
   "execution_count": 28,
   "id": "b315a570",
   "metadata": {},
   "outputs": [],
   "source": [
    "df.to_csv(\"Ciberseguridad_Global.csv\")"
   ]
  },
  {
   "cell_type": "code",
   "execution_count": 31,
   "id": "3df01314",
   "metadata": {},
   "outputs": [],
   "source": [
    "df = pd.read_csv(\"Ciberseguridad_Global.csv\")"
   ]
  }
 ],
 "metadata": {
  "kernelspec": {
   "display_name": "base",
   "language": "python",
   "name": "python3"
  },
  "language_info": {
   "codemirror_mode": {
    "name": "ipython",
    "version": 3
   },
   "file_extension": ".py",
   "mimetype": "text/x-python",
   "name": "python",
   "nbconvert_exporter": "python",
   "pygments_lexer": "ipython3",
   "version": "3.12.7"
  }
 },
 "nbformat": 4,
 "nbformat_minor": 5
}
